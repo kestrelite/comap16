{
 "cells": [
  {
   "cell_type": "code",
   "execution_count": 88,
   "metadata": {
    "collapsed": true
   },
   "outputs": [],
   "source": [
    "%matplotlib inline\n",
    "import matplotlib.pyplot as plt\n",
    "import numpy as np"
   ]
  },
  {
   "cell_type": "code",
   "execution_count": 104,
   "metadata": {
    "collapsed": true
   },
   "outputs": [],
   "source": [
    "# CONSTANTS\n",
    "tubL, tubW, tubH = 1.20, 0.60, 0.40 # meters\n",
    "molWaterInM3 = 55493.9 # mol / meter^3\n",
    "humanCP = 62.97 # J / mol K"
   ]
  },
  {
   "cell_type": "code",
   "execution_count": 105,
   "metadata": {
    "collapsed": true
   },
   "outputs": [],
   "source": [
    "# VARIABLES\n",
    "countL, countW, countH = 12, 6, 4#40, 20, 10#5, 5, 5 #50, 25, 25 # dimensionless\n",
    "bathStartingTemp = 37.0 # deg celsius\n",
    "bathThermalDiffusivity = 22e-6 # cast iron thermal diffusivity\n",
    "dt = 0.1 # seconds"
   ]
  },
  {
   "cell_type": "code",
   "execution_count": 113,
   "metadata": {
    "collapsed": false
   },
   "outputs": [],
   "source": [
    "def getWaterDiffusivity(temp):\n",
    "    lmda = 0.561 + 0.002 * temp + 0.00000962 * (temp ** 2)\n",
    "    cp = 75.98 - 0.061 * temp + 0.002 * (temp ** 2) - 0.00001755 * (temp ** 3)\n",
    "    rho = 999.86 + 0.058 * temp - 0.008 * (temp ** 2) + 0.0000397 * (temp ** 3)\n",
    "    return lmda / (cp * rho)\n",
    "\n",
    "def getSubsectionVolumeMols():\n",
    "    return molWaterInM3 * (tubL/countL) * (tubW/countW) * (tubH/countH)\n",
    "\n",
    "def getNewTempArray():\n",
    "    return bathStartingTemp*np.ones((countL+1, countW+1, countH+1))\n",
    "\n",
    "def getTubSafe(tub, l, w, h):\n",
    "    if l < 0 or l > countL: return bathStartingTemp\n",
    "    if w < 0 or w > countW: return bathStartingTemp\n",
    "    if h < 0 or h > countH: return bathStartingTemp\n",
    "    return tub[l][w][h]\n",
    "\n",
    "def getPointDiffusivity(tub, l, w, h):\n",
    "    if l == 0 or l == countL: return bathThermalDiffusivity\n",
    "    if w == 0 or w == countW: return bathThermalDiffusivity\n",
    "    if h == 0 or h == countH: return bathThermalDiffusivity\n",
    "    return getWaterDiffusivity(tub[l][w][h])\n",
    "\n",
    "def getCellLagrangian(tub, l, w, h):\n",
    "    distL, distW, distH = tubL/countL, tubW/countW, tubH/countH\n",
    "    ddL = float(getTubSafe(tub, l+1, w, h) + getTubSafe(tub, l-1, w, h) - 2 * getTubSafe(tub, l, w, h)) / (distL ** 2)\n",
    "    ddW = float(getTubSafe(tub, l, w+1, h) + getTubSafe(tub, l, w-1, h) - 2 * getTubSafe(tub, l, w, h)) / (distW ** 2)\n",
    "    ddH = float(getTubSafe(tub, l, w, h+1) + getTubSafe(tub, l, w, h-1) - 2 * getTubSafe(tub, l, w, h)) / (distH ** 2)\n",
    "    return ddL + ddW + ddH\n",
    "    \n",
    "def cellStep(tub):\n",
    "    diff = np.copy(tub)\n",
    "    newTub = np.copy(tub)\n",
    "    for l in range(0, countL+1):\n",
    "        for w in range(0, countW+1):\n",
    "            for h in range(0, countH+1):\n",
    "                wd = getPointDiffusivity(tub, l, w, h)\n",
    "                dd = getCellLagrangian(tub, l, w, h)\n",
    "                mm = getSubsectionVolumeMols()\n",
    "                diff[l][w][h] = dd#dt*mm*wd*dd\n",
    "                newTub[l][w][h] += dt*mm*wd*dd\n",
    "    return newTub"
   ]
  },
  {
   "cell_type": "code",
   "execution_count": 120,
   "metadata": {
    "collapsed": false,
    "scrolled": false
   },
   "outputs": [
    {
     "name": "stdout",
     "output_type": "stream",
     "text": [
      "[[[ 37.00000001  37.00000002  37.00000003  37.00000002  37.00000001]\n",
      "  [ 37.00000002  37.00000004  37.00000005  37.00000004  37.00000002]\n",
      "  [ 37.00000003  37.00000006  37.00000007  37.00000006  37.00000003]\n",
      "  [ 37.00000003  37.00000006  37.00000008  37.00000006  37.00000003]\n",
      "  [ 37.00000003  37.00000006  37.00000007  37.00000006  37.00000003]\n",
      "  [ 37.00000002  37.00000004  37.00000005  37.00000004  37.00000002]\n",
      "  [ 37.00000001  37.00000002  37.00000003  37.00000002  37.00000001]]\n",
      "\n",
      " [[ 37.00000002  37.00000005  37.00000005  37.00000005  37.00000002]\n",
      "  [ 37.00000005  37.0000001   37.00000011  37.0000001   37.00000005]\n",
      "  [ 37.00000007  37.00000013  37.00000016  37.00000013  37.00000007]\n",
      "  [ 37.00000007  37.00000014  37.00000017  37.00000014  37.00000007]\n",
      "  [ 37.00000007  37.00000013  37.00000016  37.00000013  37.00000007]\n",
      "  [ 37.00000005  37.0000001   37.00000011  37.0000001   37.00000005]\n",
      "  [ 37.00000002  37.00000005  37.00000005  37.00000005  37.00000002]]\n",
      "\n",
      " [[ 37.00000004  37.00000007  37.00000008  37.00000007  37.00000004]\n",
      "  [ 37.00000007  37.00000014  37.00000017  37.00000014  37.00000007]\n",
      "  [ 37.0000001   37.0000002   37.00000023  37.0000002   37.0000001 ]\n",
      "  [ 37.00000011  37.00000021  37.00000025  37.00000021  37.00000011]\n",
      "  [ 37.0000001   37.0000002   37.00000023  37.0000002   37.0000001 ]\n",
      "  [ 37.00000007  37.00000014  37.00000017  37.00000014  37.00000007]\n",
      "  [ 37.00000004  37.00000007  37.00000008  37.00000007  37.00000004]]\n",
      "\n",
      " [[ 37.00000005  37.00000009  37.0000001   37.00000009  37.00000005]\n",
      "  [ 37.00000009  37.00000018  37.00000022  37.00000018  37.00000009]\n",
      "  [ 37.00000012  37.00000025  37.00000029  37.00000025  37.00000012]\n",
      "  [ 37.00000013  37.00000027  37.00000032  37.00000027  37.00000013]\n",
      "  [ 37.00000012  37.00000025  37.00000029  37.00000025  37.00000012]\n",
      "  [ 37.00000009  37.00000018  37.00000022  37.00000018  37.00000009]\n",
      "  [ 37.00000005  37.00000009  37.0000001   37.00000009  37.00000005]]\n",
      "\n",
      " [[ 37.00000005  37.0000001   37.00000012  37.0000001   37.00000005]\n",
      "  [ 37.00000011  37.00000021  37.00000025  37.00000021  37.00000011]\n",
      "  [ 37.00000014  37.00000029  37.00000034  37.00000029  37.00000014]\n",
      "  [ 37.00000016  37.00000031  37.00000037  37.00000031  37.00000016]\n",
      "  [ 37.00000014  37.00000029  37.00000034  37.00000029  37.00000014]\n",
      "  [ 37.00000011  37.00000021  37.00000025  37.00000021  37.00000011]\n",
      "  [ 37.00000005  37.0000001   37.00000012  37.0000001   37.00000005]]\n",
      "\n",
      " [[ 37.00000006  37.00000011  37.00000013  37.00000011  37.00000006]\n",
      "  [ 37.00000011  37.00000023  37.00000027  37.00000023  37.00000011]\n",
      "  [ 37.00000015  37.00000031  37.00000036  37.00000031  37.00000015]\n",
      "  [ 37.00000017  37.00000034  37.0000004   37.00000034  37.00000017]\n",
      "  [ 37.00000015  37.00000031  37.00000036  37.00000031  37.00000015]\n",
      "  [ 37.00000011  37.00000023  37.00000027  37.00000023  37.00000011]\n",
      "  [ 37.00000006  37.00000011  37.00000013  37.00000011  37.00000006]]\n",
      "\n",
      " [[ 37.00000006  37.00000011  37.00000013  37.00000011  37.00000006]\n",
      "  [ 37.00000012  37.00000023  37.00000027  37.00000023  37.00000012]\n",
      "  [ 37.00000016  37.00000031  37.00000037  37.00000031  37.00000016]\n",
      "  [ 37.00000017  37.00000034  37.0000004   37.00000034  37.00000017]\n",
      "  [ 37.00000016  37.00000031  37.00000037  37.00000031  37.00000016]\n",
      "  [ 37.00000012  37.00000023  37.00000027  37.00000023  37.00000012]\n",
      "  [ 37.00000006  37.00000011  37.00000013  37.00000011  37.00000006]]\n",
      "\n",
      " [[ 37.00000006  37.0000001   37.00000012  37.0000001   37.00000006]\n",
      "  [ 37.00000011  37.00000022  37.00000026  37.00000022  37.00000011]\n",
      "  [ 37.00000015  37.0000003   37.00000036  37.0000003   37.00000015]\n",
      "  [ 37.00000016  37.00000033  37.00000039  37.00000033  37.00000016]\n",
      "  [ 37.00000015  37.0000003   37.00000036  37.0000003   37.00000015]\n",
      "  [ 37.00000011  37.00000022  37.00000026  37.00000022  37.00000011]\n",
      "  [ 37.00000006  37.0000001   37.00000012  37.0000001   37.00000006]]\n",
      "\n",
      " [[ 37.00000005  37.00000009  37.00000011  37.00000009  37.00000005]\n",
      "  [ 37.0000001   37.0000002   37.00000024  37.0000002   37.0000001 ]\n",
      "  [ 37.00000014  37.00000027  37.00000032  37.00000027  37.00000014]\n",
      "  [ 37.00000015  37.0000003   37.00000035  37.0000003   37.00000015]\n",
      "  [ 37.00000014  37.00000027  37.00000032  37.00000027  37.00000014]\n",
      "  [ 37.0000001   37.0000002   37.00000024  37.0000002   37.0000001 ]\n",
      "  [ 37.00000005  37.00000009  37.00000011  37.00000009  37.00000005]]\n",
      "\n",
      " [[ 37.00000004  37.00000008  37.00000009  37.00000008  37.00000004]\n",
      "  [ 37.00000009  37.00000017  37.0000002   37.00000017  37.00000009]\n",
      "  [ 37.00000012  37.00000023  37.00000028  37.00000023  37.00000012]\n",
      "  [ 37.00000013  37.00000025  37.0000003   37.00000025  37.00000013]\n",
      "  [ 37.00000012  37.00000023  37.00000028  37.00000023  37.00000012]\n",
      "  [ 37.00000009  37.00000017  37.0000002   37.00000017  37.00000009]\n",
      "  [ 37.00000004  37.00000008  37.00000009  37.00000008  37.00000004]]\n",
      "\n",
      " [[ 37.00000003  37.00000006  37.00000007  37.00000006  37.00000003]\n",
      "  [ 37.00000007  37.00000013  37.00000016  37.00000013  37.00000007]\n",
      "  [ 37.00000009  37.00000018  37.00000021  37.00000018  37.00000009]\n",
      "  [ 37.0000001   37.0000002   37.00000023  37.0000002   37.0000001 ]\n",
      "  [ 37.00000009  37.00000018  37.00000021  37.00000018  37.00000009]\n",
      "  [ 37.00000007  37.00000013  37.00000016  37.00000013  37.00000007]\n",
      "  [ 37.00000003  37.00000006  37.00000007  37.00000006  37.00000003]]\n",
      "\n",
      " [[ 37.00000002  37.00000004  37.00000005  37.00000004  37.00000002]\n",
      "  [ 37.00000004  37.00000009  37.0000001   37.00000009  37.00000004]\n",
      "  [ 37.00000006  37.00000012  37.00000014  37.00000012  37.00000006]\n",
      "  [ 37.00000007  37.00000013  37.00000015  37.00000013  37.00000007]\n",
      "  [ 37.00000006  37.00000012  37.00000014  37.00000012  37.00000006]\n",
      "  [ 37.00000004  37.00000009  37.0000001   37.00000009  37.00000004]\n",
      "  [ 37.00000002  37.00000004  37.00000005  37.00000004  37.00000002]]\n",
      "\n",
      " [[ 37.00000001  37.00000002  37.00000002  37.00000002  37.00000001]\n",
      "  [ 37.00000002  37.00000004  37.00000005  37.00000004  37.00000002]\n",
      "  [ 37.00000003  37.00000005  37.00000006  37.00000005  37.00000003]\n",
      "  [ 37.00000003  37.00000006  37.00000007  37.00000006  37.00000003]\n",
      "  [ 37.00000003  37.00000005  37.00000006  37.00000005  37.00000003]\n",
      "  [ 37.00000002  37.00000004  37.00000005  37.00000004  37.00000002]\n",
      "  [ 37.00000001  37.00000002  37.00000002  37.00000002  37.00000001]]]\n"
     ]
    },
    {
     "data": {
      "image/png": "[encoded data removed]",
      "text/plain": [
       "<matplotlib.figure.Figure at 0x7ff93087dc10>"
      ]
     },
     "metadata": {},
     "output_type": "display_data"
    }
   ],
   "source": [
    "arr = getNewTempArray();\n",
    "arr[1][1][1] = 90\n",
    "aList = [np.sum(arr)]\n",
    "\n",
    "for i in range(0, 5000):\n",
    "    arr = cellStep(arr)\n",
    "    aList.append(np.sum(arr))\n",
    "plt.plot(aList)\n",
    "print(arr)"
   ]
  },
  {
   "cell_type": "code",
   "execution_count": null,
   "metadata": {
    "collapsed": true
   },
   "outputs": [],
   "source": []
  }
 ],
 "metadata": {
  "kernelspec": {
   "display_name": "Python 2",
   "language": "python",
   "name": "python2"
  },
  "language_info": {
   "codemirror_mode": {
    "name": "ipython",
    "version": 2
   },
   "file_extension": ".py",
   "mimetype": "text/x-python",
   "name": "python",
   "nbconvert_exporter": "python",
   "pygments_lexer": "ipython2",
   "version": "2.7.6"
  }
 },
 "nbformat": 4,
 "nbformat_minor": 0
}
