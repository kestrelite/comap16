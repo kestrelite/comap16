{
 "cells": [
  {
   "cell_type": "code",
   "execution_count": 2,
   "metadata": {
    "collapsed": true
   },
   "outputs": [],
   "source": [
    "%matplotlib inline\n",
    "import matplotlib.pyplot as plt\n",
    "import numpy as np"
   ]
  },
  {
   "cell_type": "code",
   "execution_count": 16,
   "metadata": {
    "collapsed": true
   },
   "outputs": [],
   "source": [
    "# CONSTANTS\n",
    "tubL, tubW, tubH = 1.25, 0.60, 0.35 # meters\n",
    "molWaterInM3 = 55493.9 # mol / meter^3\n",
    "humanCP = 62.97 # J / mol K"
   ]
  },
  {
   "cell_type": "code",
   "execution_count": 75,
   "metadata": {
    "collapsed": true
   },
   "outputs": [],
   "source": [
    "# VARIABLES\n",
    "countL, countW, countH = 5, 5, 5#40, 20, 10#5, 5, 5 #50, 25, 25 # dimensionless\n",
    "bathStartingTemp = 37.0 # deg celsius\n",
    "bathThermalDiffusivity = 22e-6 # cast iron thermal diffusivity\n",
    "dt = 0.1 # seconds"
   ]
  },
  {
   "cell_type": "code",
   "execution_count": 76,
   "metadata": {
    "collapsed": false
   },
   "outputs": [],
   "source": [
    "def getWaterDiffusivity(temp):\n",
    "    lmda = 0.561 + 0.002 * temp + 0.00000962 * (temp ** 2)\n",
    "    cp = 75.98 - 0.061 * temp + 0.002 * (temp ** 2) - 0.00001755 * (temp ** 3)\n",
    "    rho = 999.86 + 0.058 * temp - 0.008 * (temp ** 2) + 0.0000397 * (temp ** 3)\n",
    "    return lmda / (cp * rho)\n",
    "\n",
    "def getSubsectionVolumeMols():\n",
    "    return molWaterInM3 * (tubL/countL) * (tubW/countW) * (tubH/countH)\n",
    "\n",
    "def getNewTempArray():\n",
    "    return bathStartingTemp*np.ones((countL+1, countW+1, countH+1))\n",
    "\n",
    "def getTubSafe(tub, l, w, h):\n",
    "    if l < 0 or l > countL: return bathStartingTemp\n",
    "    if w < 0 or w > countW: return bathStartingTemp\n",
    "    if h < 0 or h > countH: return bathStartingTemp\n",
    "    return tub[l][w][h]\n",
    "\n",
    "def getPointDiffusivity(tub, l, w, h):\n",
    "    if l == 0 or l == countL: return bathThermalDiffusivity\n",
    "    if w == 0 or w == countW: return bathThermalDiffusivity\n",
    "    if h == 0 or h == countH: return bathThermalDiffusivity\n",
    "    return getWaterDiffusivity(tub[l][w][h])\n",
    "\n",
    "def getCellLagrangian(tub, l, w, h):\n",
    "    distL, distW, distH = tubL/countL, tubW/countW, tubH/countH\n",
    "    # print(tub[l-1][w][h], tub[l][w][h], tub[l+1][w][h])\n",
    "    ddL = float(getTubSafe(tub, l+1, w, h) + getTubSafe(tub, l-1, w, h) - 2 * getTubSafe(tub, l, w, h)) / (distL ** 2)\n",
    "    ddW = float(getTubSafe(tub, l, w+1, h) + getTubSafe(tub, l, w-1, h) - 2 * getTubSafe(tub, l, w, h)) / (distW ** 2)\n",
    "    ddH = float(getTubSafe(tub, l, w, h+1) + getTubSafe(tub, l, w, h-1) - 2 * getTubSafe(tub, l, w, h)) / (distH ** 2)\n",
    "    return (ddL, ddW, ddH)\n",
    "    \n",
    "def cellStep(tub):\n",
    "    diffusionL, diffusionW, diffusionH = np.copy(tub), np.copy(tub), np.copy(tub)\n",
    "    for l in range(0, countL+1):\n",
    "        for w in range(0, countW+1):\n",
    "            for h in range(0, countH+1):\n",
    "                wd = getPointDiffusivity(tub, l, w, h)\n",
    "                dd = getCellLagrangian(tub, l, w, h)\n",
    "                mm = getSubsectionVolumeMols()\n",
    "                diffusionL[l][w][h], diffusionW[l][w][h], diffusionH[l][w][h] = dt*mm*wd*dd[0], dt*mm*wd*dd[1], dt*mm*wd*dd[2]\n",
    "    tmp = np.add(diffusionL, diffusionW)\n",
    "    tmp = np.add(tmp, diffusionH)\n",
    "    #print(tmp)\n",
    "    return np.add(tub, tmp)\n",
    "    #print(np.add(tub, tmp))"
   ]
  },
  {
   "cell_type": "code",
   "execution_count": 77,
   "metadata": {
    "collapsed": false,
    "scrolled": false
   },
   "outputs": [
    {
     "name": "stdout",
     "output_type": "stream",
     "text": [
      "(-12.048794382179267, 0.6004479069727293, -25.242480588251027)\n",
      "(9.531256032991905, -9.127811120137608, -11.511668630790885)\n",
      "(7.203230083599692, -4.831541207295231, -12.776527732285686)\n",
      "[[[ 37.12550045  37.2137842   37.23946296  37.20811628  37.14482104\n",
      "    37.07230341]\n",
      "  [ 37.20720069  37.35799421  37.39566949  37.33448975  37.22577282\n",
      "    37.11027838]\n",
      "  [ 37.15746045  37.2682545   37.29411444  37.24763379  37.16712846\n",
      "    37.08208058]\n",
      "  [ 37.07710437  37.1293086   37.14114101  37.11923396  37.08113469\n",
      "    37.04027118]\n",
      "  [ 37.02815762  37.04667473  37.0508919   37.04327522  37.02975129\n",
      "    37.01491083]\n",
      "  [ 37.00807845  37.01338473  37.01466372  37.01257653  37.00872017\n",
      "    37.00437759]]\n",
      "\n",
      " [[ 37.50072922  37.87777028  37.95723172  37.78429283  37.50924303\n",
      "    37.24099772]\n",
      "  [ 38.01010488  39.05980125  39.16087751  38.60570689  37.9249012\n",
      "    37.39791238]\n",
      "  [ 37.68462505  38.30227213  38.3234866   37.95615467  37.54110709\n",
      "    37.2464257 ]\n",
      "  [ 37.27418116  37.47148039  37.46124904  37.32546911  37.18347173\n",
      "    37.09120034]\n",
      "  [ 37.07879193  37.12078459  37.11326367  37.07827242  37.04433118\n",
      "    37.02439892]\n",
      "  [ 37.01963216  37.03047267  37.02991058  37.02227612  37.0135684\n",
      "    37.00665085]]\n",
      "\n",
      " [[ 37.12290833  37.20868098  37.2250105   37.18469411  37.12139759\n",
      "    37.05879999]\n",
      "  [ 37.21327133  37.38969812  37.39477168  37.2885785   37.16732758\n",
      "    37.07958288]\n",
      "  [ 37.14077642  37.23758573  37.23133008  37.16330965  37.09260334\n",
      "    37.04693431]\n",
      "  [ 37.05623627  37.08510005  37.07914893  37.05429731  37.03061349\n",
      "    37.01703271]\n",
      "  [ 37.01633157  37.02190699  37.01936793  37.01293978  37.00731881\n",
      "    37.00452875]\n",
      "  [ 37.00433907  37.00636433  37.00603026  37.0044009   37.00267093\n",
      "    37.00134262]]\n",
      "\n",
      " [[ 37.01594533  37.02635103  37.02819982  37.02328192  37.01553186\n",
      "    37.00768141]\n",
      "  [ 37.02338336  37.03782678  37.03691117  37.02666802  37.01571521\n",
      "    37.00835998]\n",
      "  [ 37.01501285  37.02218706  37.0205641   37.01418976  37.0081181\n",
      "    37.00464684]\n",
      "  [ 37.00601617  37.00791868  37.00694211  37.00462105  37.00262164\n",
      "    37.00165685]\n",
      "  [ 37.00178083  37.00207216  37.00171202  37.00110338  37.00062737\n",
      "    37.00044211]\n",
      "  [ 37.00050792  37.00070592  37.00064631  37.00046336  37.0002811\n",
      "    37.00014463]]\n",
      "\n",
      " [[ 37.0014424   37.00233605  37.00249015  37.00207189  37.00140253\n",
      "    37.00070518]\n",
      "  [ 37.00177566  37.00253016  37.00237366  37.00170162  37.00102727\n",
      "    37.00061446]\n",
      "  [ 37.00110365  37.00141637  37.00124014  37.00083514  37.0004849\n",
      "    37.00031705]\n",
      "  [ 37.00044448  37.00050528  37.00041329  37.00026571  37.00015231\n",
      "    37.0001106 ]\n",
      "  [ 37.00013465  37.00013543  37.00010351  37.00006399  37.00003669\n",
      "    37.00002969]\n",
      "  [ 37.00004124  37.00005455  37.0000483   37.00003402  37.00002061\n",
      "    37.00001079]]\n",
      "\n",
      " [[ 37.00010841  37.00017653  37.00018993  37.00016022  37.00010983\n",
      "    37.00005507]\n",
      "  [ 37.00012823  37.00019628  37.00019658  37.00015355  37.00009938\n",
      "    37.00005072]\n",
      "  [ 37.00008115  37.0001185   37.00011358  37.00008517  37.00005354\n",
      "    37.00002745]\n",
      "  [ 37.00003441  37.00004806  37.00004447  37.00003246  37.0000201\n",
      "    37.00001038]\n",
      "  [ 37.0000111   37.00001494  37.00001344  37.00000963  37.00000591\n",
      "    37.00000306]\n",
      "  [ 37.00000325  37.0000046   37.00000426  37.00000311  37.00000192\n",
      "    37.00000093]]]\n"
     ]
    },
    {
     "data": {
      "image/png": "[encoded data removed]",
      "text/plain": [
       "<matplotlib.figure.Figure at 0x7ff930411610>"
      ]
     },
     "metadata": {},
     "output_type": "display_data"
    }
   ],
   "source": [
    "arr = getNewTempArray();\n",
    "arr[1][1][1] = 90\n",
    "\n",
    "aList = [np.sum(arr)]\n",
    "\n",
    "for i in range(0, 100):\n",
    "    arr = cellStep(arr)\n",
    "    #print(\"STEP \" + str(i))\n",
    "    #print(np.sum(arr))\n",
    "    aList.append(np.sum(arr))\n",
    "plt.plot(aList)\n",
    "print(getCellLagrangian(arr, 1, 0, 0))\n",
    "print(getCellLagrangian(arr, 0, 1, 0))\n",
    "print(getCellLagrangian(arr, 0, 0, 1))\n",
    "print(arr)\n",
    "#print(aList)"
   ]
  },
  {
   "cell_type": "code",
   "execution_count": null,
   "metadata": {
    "collapsed": true
   },
   "outputs": [],
   "source": []
  }
 ],
 "metadata": {
  "kernelspec": {
   "display_name": "Python 2",
   "language": "python",
   "name": "python2"
  },
  "language_info": {
   "codemirror_mode": {
    "name": "ipython",
    "version": 2
   },
   "file_extension": ".py",
   "mimetype": "text/x-python",
   "name": "python",
   "nbconvert_exporter": "python",
   "pygments_lexer": "ipython2",
   "version": "2.7.6"
  }
 },
 "nbformat": 4,
 "nbformat_minor": 0
}
