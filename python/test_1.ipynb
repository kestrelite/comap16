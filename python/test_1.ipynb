{
 "cells": [
  {
   "cell_type": "code",
   "execution_count": 2,
   "metadata": {
    "collapsed": true
   },
   "outputs": [],
   "source": [
    "%matplotlib inline\n",
    "import matplotlib.pyplot as plt\n",
    "import numpy as np"
   ]
  },
  {
   "cell_type": "code",
   "execution_count": 16,
   "metadata": {
    "collapsed": true
   },
   "outputs": [],
   "source": [
    "# CONSTANTS\n",
    "tubL, tubW, tubH = 1.25, 0.60, 0.35 # meters\n",
    "molWaterInM3 = 55493.9 # mol / meter^3\n",
    "humanCP = 62.97 # J / mol K"
   ]
  },
  {
   "cell_type": "code",
   "execution_count": 21,
   "metadata": {
    "collapsed": true
   },
   "outputs": [],
   "source": [
    "# VARIABLES\n",
    "countL, countW, countH = 40, 20, 10#5, 5, 5 #50, 25, 25 # dimensionless\n",
    "bathStartingTemp = 37 # deg celsius\n",
    "dt = 0.1 # seconds"
   ]
  },
  {
   "cell_type": "code",
   "execution_count": 22,
   "metadata": {
    "collapsed": false
   },
   "outputs": [],
   "source": [
    "def getWaterDiffusivity(temp):\n",
    "    lmda = 0.561 + 0.002 * temp + 0.00000962 * (temp ** 2)\n",
    "    cp = 75.98 - 0.061 * temp + 0.002 * (temp ** 2) - 0.00001755 * (temp ** 3)\n",
    "    rho = 999.86 + 0.058 * temp - 0.008 * (temp ** 2) + 0.0000397 * (temp ** 3)\n",
    "    return lmda / (cp * rho)\n",
    "\n",
    "def getSubsectionVolumeMols():\n",
    "    return molWaterInM3 * (tubL/countL) * (tubW/countW) * (tubH/countH)\n",
    "\n",
    "def getNewTempArray():\n",
    "    return bathStartingTemp*np.ones((countL+1, countW+1, countH+1))\n",
    "\n",
    "def getCellLagrangian(tub, l, w, h):\n",
    "    distL, distW, distH = tubL/countL, tubW/countW, tubH/countH\n",
    "    # print(tub[l-1][w][h], tub[l][w][h], tub[l+1][w][h])\n",
    "    ddL = 0 if l == 0 or l == countL else float(tub[l+1][w][h] + tub[l-1][w][h] - 2*tub[l][w][h])/(distL ** 2)\n",
    "    ddW = 0 if w == 0 or w == countW else float(tub[l][w+1][h] + tub[l][w-1][h] - 2*tub[l][w][h])/(distL ** 2)\n",
    "    ddH = 0 if h == 0 or h == countH else float(tub[l][w][h+1] + tub[l][w][h-1] - 2*tub[l][w][h])/(distL ** 2)\n",
    "    return (ddL, ddW, ddH)\n",
    "    \n",
    "def cellStep(tub):\n",
    "    diffusionL, diffusionW, diffusionH = np.copy(tub), np.copy(tub), np.copy(tub)\n",
    "    for l in range(0, countL+1):\n",
    "        for w in range(0, countW+1):\n",
    "            for h in range(0, countH+1):\n",
    "                wd = getWaterDiffusivity(tub[l][w][h])\n",
    "                dd = getCellLagrangian(tub, l, w, h)\n",
    "                mm = getSubsectionVolumeMols()\n",
    "                diffusionL[l][w][h], diffusionW[l][w][h], diffusionH[l][w][h] = dt*mm*wd*dd[0], dt*mm*wd*dd[1], dt*mm*wd*dd[2]\n",
    "    tmp = np.add(diffusionL, diffusionW)\n",
    "    tmp = np.add(tmp, diffusionH)\n",
    "    #print(tmp)\n",
    "    return np.add(tub, tmp)\n",
    "    #print(np.add(tub, tmp))"
   ]
  },
  {
   "cell_type": "code",
   "execution_count": 28,
   "metadata": {
    "collapsed": false
   },
   "outputs": [
    {
     "data": {
      "text/plain": [
       "[<matplotlib.lines.Line2D at 0x7ff930fea390>]"
      ]
     },
     "execution_count": 28,
     "metadata": {},
     "output_type": "execute_result"
    },
    {
     "data": {
      "image/png": "[encoded data removed]",
      "text/plain": [
       "<matplotlib.figure.Figure at 0x7ff931174c10>"
      ]
     },
     "metadata": {},
     "output_type": "display_data"
    }
   ],
   "source": [
    "arr = getNewTempArray();\n",
    "arr[3][3][3] = 100\n",
    "\n",
    "aList = [np.sum(arr)]\n",
    "\n",
    "for i in range(0, 50):\n",
    "    arr = cellStep(arr)\n",
    "    #print(\"STEP \" + str(i))\n",
    "    aList.append(np.sum(arr))\n",
    "plt.plot(aList)\n",
    "#print(aList)"
   ]
  },
  {
   "cell_type": "code",
   "execution_count": 25,
   "metadata": {
    "collapsed": false
   },
   "outputs": [
    {
     "name": "stdout",
     "output_type": "stream",
     "text": [
      "1.82089359375\n"
     ]
    }
   ],
   "source": [
    "print(getSubsectionVolumeMols())"
   ]
  }
 ],
 "metadata": {
  "kernelspec": {
   "display_name": "Python 2",
   "language": "python",
   "name": "python2"
  },
  "language_info": {
   "codemirror_mode": {
    "name": "ipython",
    "version": 2
   },
   "file_extension": ".py",
   "mimetype": "text/x-python",
   "name": "python",
   "nbconvert_exporter": "python",
   "pygments_lexer": "ipython2",
   "version": "2.7.6"
  }
 },
 "nbformat": 4,
 "nbformat_minor": 0
}
