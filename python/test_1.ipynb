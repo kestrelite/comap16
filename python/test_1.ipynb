{
 "cells": [
  {
   "cell_type": "code",
   "execution_count": 13,
   "metadata": {
    "collapsed": false
   },
   "outputs": [],
   "source": [
    "%matplotlib inline\n",
    "import matplotlib.pyplot as plt\n",
    "import numpy as np\n",
    "import itertools\n",
    "from IPython.html.widgets import interact"
   ]
  },
  {
   "cell_type": "code",
   "execution_count": 65,
   "metadata": {
    "collapsed": true
   },
   "outputs": [],
   "source": [
    "# CONSTANTS\n",
    "tubL, tubW, tubH = 1.20, 0.60, 0.40 # meters\n",
    "countL, countW, countH = 24, 12, 8 # dimensionless\n",
    "molWaterInM3 = 55493.9 # mol / meter^3\n",
    "humanCP = 3500 # J / kg K \n",
    "humanRho = 985 # kg / m ^ 3\n",
    "humanThermalDiffusivity = 2.8e-8\n",
    "humanTemp = 37 # deg C <- 98.6 deg F\n",
    "\n",
    "bathWallThermalDiffusivity = 22e-6 # cast iron thermal diffusivity\n",
    "bathWallThermalConductivity = 55 # cast iron W/m K\n",
    "bathWallSpecificHeat = 500 # J / kg K\n",
    "bathWallThickness = 5e-3 # cast iron thickness, m\n",
    "bathWallDensity = 7170 # cast iron density, kg/m^3\n",
    "bathWallStartingTemp = 32 # deg celsius"
   ]
  },
  {
   "cell_type": "code",
   "execution_count": 43,
   "metadata": {
    "collapsed": true
   },
   "outputs": [],
   "source": [
    "# VARIABLES\n",
    "waterInputTemp = 49.0 # deg celsius\n",
    "waterStartingTemp = 37.0 # deg celsius\n",
    "ambientTemp = 20.0 # deg celsius\n",
    "kMetal = 0.05\n",
    "pctWaterIn = 0.40 # T' = k * tIn + (1-k) * T\n",
    "\n",
    "dt = 0.1 # seconds"
   ]
  },
  {
   "cell_type": "code",
   "execution_count": 16,
   "metadata": {
    "collapsed": false
   },
   "outputs": [],
   "source": [
    "# DERIVED\n",
    "distL, distW, distH = tubL/countL, tubW/countW, tubH/countH\n",
    "saL, saW, saH = distW*distH, distL*distH, distL*distW\n",
    "wallWtL = saL * (bathWallThickness*bathWallDensity) # kg\n",
    "wallWtW = saW * (bathWallThickness*bathWallDensity) # kg\n",
    "wallWtH = saH * (bathWallThickness*bathWallDensity) # kg\n",
    "#kMetalL = bathWallThermalConductivity / ((bathWallThickness ** 2) * bathWallSpecificHeat * bathWallDensity) # SA * TC / TH * [J/K]\n",
    "#print(saL, kMetalL)"
   ]
  },
  {
   "cell_type": "code",
   "execution_count": 81,
   "metadata": {
    "collapsed": true
   },
   "outputs": [],
   "source": [
    "def getWaterCP(temp):\n",
    "    return (75.98 - 0.061 * temp + 0.002 * (temp ** 2) - 0.00001755 * (temp ** 3))\n",
    "def getWaterThermCond(temp):\n",
    "    return (0.561 + 0.002 * temp + 0.00000962 * (temp ** 2))\n",
    "def getWaterDensity(temp):\n",
    "    return (999.86 + 0.058 * temp - 0.008 * (temp ** 2) + 0.0000397 * (temp ** 3))\n",
    "def getWaterDiffusivity(temp):\n",
    "    return getWaterThermCond(temp) / (getWaterCP(temp) * getWaterDensity(temp))\n",
    "def getSubsectionVolumeMols():\n",
    "    return molWaterInM3 * (tubL/countL) * (tubW/countW) * (tubH/countH)\n",
    "def getSubsectionVolumeMeters():\n",
    "    return (tubL/countL) * (tubW/countW) * (tubH/countH)\n",
    "\n",
    "def cellIsHuman(l, w, h):\n",
    "    if countL != 24 or countW != 12 or countH != 8: raise Exception(\"Too bad, so sad.\")\n",
    "    if l >= 1 and l <= 4: \n",
    "        if w >= 4 and w <= 9: return True\n",
    "    elif l >= 5 and l <= 14 and (h == 6 or h == 7):\n",
    "        if w == 4 or w == 5 or w == 8 or w == 9: return True\n",
    "    elif l >= 15 and l <= 21 and h == 7:\n",
    "        if w == 5 or w == 8: return True        \n",
    "    return False\n",
    "def cellIsFaucet(l, w, h):\n",
    "    if h == 0 and l == 23 and (w == 6 or w == 7): return True\n",
    "    return False\n",
    "def cellIsWater(l, w, h):\n",
    "    if l == 0 or l == countL+1: return False\n",
    "    if w == 0 or w == countW+1: return False\n",
    "    if h == countH+0: return False\n",
    "    if cellIsHuman(l, w, h): return False\n",
    "    if cellIsFaucet(l, w, h): return False\n",
    "    return True"
   ]
  },
  {
   "cell_type": "code",
   "execution_count": 119,
   "metadata": {
    "collapsed": false
   },
   "outputs": [],
   "source": [
    "def getNewTempArray():\n",
    "    arr = waterStartingTemp*np.ones((countL+2, countW+2, countH+1))\n",
    "    for i in itertools.product(range(0, countL+2), range(0, countW+2), range(0, countH+1)):\n",
    "        if i[0] == 0 or i[0] == countL+1: arr[i[0]][i[1]][i[2]] = bathWallStartingTemp\n",
    "        if i[1] == 0 or i[1] == countW+1: arr[i[0]][i[1]][i[2]] = bathWallStartingTemp\n",
    "        if              i[2] == countH+0: arr[i[0]][i[1]][i[2]] = bathWallStartingTemp\n",
    "    return arr\n",
    "\n",
    "def getTubSafe(tub, l, w, h):\n",
    "    l = 0        if l < 0        else l\n",
    "    l = countL+1 if l > countL+1 else l\n",
    "    w = 0        if w < 0        else w\n",
    "    w = countW+1 if w > countW+1 else w\n",
    "    h = 0        if h < 0        else h\n",
    "    h = countH+0 if h > countH+0 else h\n",
    "    return tub[l][w][h]\n",
    "\n",
    "def getPointDiffusivity(tub, l, w, h):\n",
    "    if l == 0 or l == countL+1: return bathWallThermalDiffusivity\n",
    "    if w == 0 or w == countW+1: return bathWallThermalDiffusivity\n",
    "    if           h == countH+0: return bathWallThermalDiffusivity # h = 0 layer is water\n",
    "    return getWaterDiffusivity(tub[l][w][h])\n",
    "\n",
    "def getCellLagrangian(tub, l, w, h):\n",
    "    ddL = float(getTubSafe(tub, l+1, w, h) + getTubSafe(tub, l-1, w, h) - 2 * getTubSafe(tub, l, w, h)) / (distL ** 2)\n",
    "    ddW = float(getTubSafe(tub, l, w+1, h) + getTubSafe(tub, l, w-1, h) - 2 * getTubSafe(tub, l, w, h)) / (distW ** 2)\n",
    "    ddH = float(getTubSafe(tub, l, w, h+1) + getTubSafe(tub, l, w, h-1) - 2 * getTubSafe(tub, l, w, h)) / (distH ** 2)\n",
    "    return ddL + ddW + ddH\n",
    "\n",
    "def getWaterTempMean(tub):\n",
    "    sm, ct = 0, 0\n",
    "    for i in itertools.product(range(0, countL+2), range(0, countW+2), range(0, countH+1)):\n",
    "        if cellIsWater(i[0], i[1], i[2]): \n",
    "            sm += tub[i[0]][i[1]][i[2]]\n",
    "            ct += 1\n",
    "    mean = float(sm) / float(ct)\n",
    "    return mean\n",
    "\n",
    "def getWaterTempStd(tub):\n",
    "    mean = getWaterTempMean(tub)\n",
    "    ssum, ct = 0, 0\n",
    "    for i in itertools.product(range(0, countL+2), range(0, countW+2), range(0, countH+1)):\n",
    "        if cellIsWater(i[0], i[1], i[2]):\n",
    "            ssum += (tub[i[0]][i[1]][i[2]] - float(mean)) ** 2\n",
    "            ct += 1\n",
    "    return (float(ssum) / float(ct)) ** (0.5)\n",
    "\n",
    "def cellStep(tub):\n",
    "    newTub = np.copy(tub)\n",
    "    for l in range(0, countL+2):\n",
    "        for w in range(0, countW+2):\n",
    "            for h in range(0, countH+1):\n",
    "                # faucet inputs\n",
    "                if cellIsFaucet(l, w, h):\n",
    "                    newTub[l][w][h] = tub[l][w][h] + dt * (waterInputTemp - tub[l][w][h]) * pctWaterIn\n",
    "                    #print(tub[l][w][h], newTub[l][w][h])\n",
    "                \n",
    "                # general calculations\n",
    "                wd = getPointDiffusivity(tub, l, w, h)\n",
    "                dd = getCellLagrangian(tub, l, w, h)\n",
    "                mm = getSubsectionVolumeMols()\n",
    "                if cellIsHuman(l, w, h): newTub[l][w][h] = humanTemp\n",
    "                else: newTub[l][w][h] += dt*mm*wd*dd\n",
    "                \n",
    "                # metal decay - h == 0 is water and is excluded from metal decay\n",
    "                if l == 0 or w == 0 or l == countL+1 or w == countW+1 or h == countH:\n",
    "                    newTub[l][w][h] += -0.20*dt*(newTub[l][w][h]-ambientTemp)\n",
    "                # water decay - upper surface of water\n",
    "                if h == 0 and l != 0 and w != 0:\n",
    "                    newTub[l][w][h] += -2.8 * dt * (saH / (getWaterCP(tub[l][w][h]) * getSubsectionVolumeMols())) * (tub[l][w][h] - ambientTemp)\n",
    "                \n",
    "    return newTub"
   ]
  },
  {
   "cell_type": "code",
   "execution_count": 122,
   "metadata": {
    "collapsed": false,
    "scrolled": true
   },
   "outputs": [],
   "source": [
    "#arrHST = []\n",
    "arrSTD = [0]\n",
    "arrMEA = [37]\n",
    "\n",
    "def gen_fn(steps=1, dtx=0.1):\n",
    "    dt = dtx\n",
    "    arr = getNewTempArray()\n",
    "    for i in range(0, steps):\n",
    "        arr = cellStep(arr)\n",
    "        #arrHST.append(arr)\n",
    "        arrSTD.append(getWaterTempStd(arr))\n",
    "        arrMEA.append(getWaterTempMean(arr))\n",
    "    return arr  \n",
    "arr = gen_fn(steps=10000, dtx=1.0)"
   ]
  },
  {
   "cell_type": "code",
   "execution_count": 123,
   "metadata": {
    "collapsed": false
   },
   "outputs": [
    {
     "data": {
      "text/plain": [
       "<matplotlib.text.Text at 0x7f744cc45f50>"
      ]
     },
     "execution_count": 123,
     "metadata": {},
     "output_type": "execute_result"
    },
    {
     "data": {
      "image/png": "[encoded data removed]",
      "text/plain": [
       "<matplotlib.figure.Figure at 0x7f744cd9e790>"
      ]
     },
     "metadata": {},
     "output_type": "display_data"
    }
   ],
   "source": [
    "plt.plot(arrOut)\n",
    "plt.xlabel(\"Iteration (dt = 1.0sec)\")\n",
    "plt.ylabel(\"STD of bathwater\")\n",
    "plt.title(\"STD of bathwater versus time\")"
   ]
  },
  {
   "cell_type": "code",
   "execution_count": 124,
   "metadata": {
    "collapsed": false
   },
   "outputs": [
    {
     "data": {
      "text/plain": [
       "[<matplotlib.lines.Line2D at 0x7f744c481910>]"
      ]
     },
     "execution_count": 124,
     "metadata": {},
     "output_type": "execute_result"
    },
    {
     "data": {
      "image/png": "[encoded data removed]",
      "text/plain": [
       "<matplotlib.figure.Figure at 0x7f744cc6e550>"
      ]
     },
     "metadata": {},
     "output_type": "display_data"
    }
   ],
   "source": [
    "plt.plot(arrMEA)"
   ]
  },
  {
   "cell_type": "code",
   "execution_count": 125,
   "metadata": {
    "collapsed": false
   },
   "outputs": [
    {
     "name": "stdout",
     "output_type": "stream",
     "text": [
      "Flow Rate: \n"
     ]
    },
    {
     "data": {
      "text/plain": [
       "<function __main__.plot_fn>"
      ]
     },
     "execution_count": 125,
     "metadata": {},
     "output_type": "execute_result"
    },
    {
     "data": {
      "image/png": "[encoded data removed]",
      "text/plain": [
       "<matplotlib.figure.Figure at 0x7f744cc45390>"
      ]
     },
     "metadata": {},
     "output_type": "display_data"
    }
   ],
   "source": [
    "def plot_fn(depth=1):\n",
    "    print(\"Flow Rate: \")\n",
    "    plt.pcolor(arr[depth], cmap='RdBu_r', vmin=20, vmax=49)\n",
    "    plt.colorbar()\n",
    "\n",
    "interact(plot_fn, depth=(0,25))"
   ]
  },
  {
   "cell_type": "code",
   "execution_count": 127,
   "metadata": {
    "collapsed": true
   },
   "outputs": [],
   "source": [
    "np.save(open(\"test_data_1_mea\", 'w'), arrMEA)"
   ]
  }
 ],
 "metadata": {
  "kernelspec": {
   "display_name": "Python 2",
   "language": "python",
   "name": "python2"
  },
  "language_info": {
   "codemirror_mode": {
    "name": "ipython",
    "version": 2
   },
   "file_extension": ".py",
   "mimetype": "text/x-python",
   "name": "python",
   "nbconvert_exporter": "python",
   "pygments_lexer": "ipython2",
   "version": "2.7.6"
  }
 },
 "nbformat": 4,
 "nbformat_minor": 0
}
